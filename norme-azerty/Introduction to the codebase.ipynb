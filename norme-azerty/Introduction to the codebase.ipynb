{
 "cells": [
  {
   "cell_type": "markdown",
   "metadata": {},
   "source": [
    "# This notebook introduces the code used to optimize the French keyboard. \n",
    "\n",
    "It covers the following uses: \n",
    "- Set up optimization instances and run the optimization.\n",
    "- Evaluate and visualize computed or hand-made mappings. \n",
    "- Modify and compare mappings. \n",
    "- What you need to compute your own scenario or language"
   ]
  },
  {
   "cell_type": "code",
   "execution_count": 4,
   "metadata": {},
   "outputs": [
    {
     "name": "stdout",
     "output_type": "stream",
     "text": [
      "Collecting gurobipy\n",
      "  Downloading gurobipy-9.5.2-cp38-cp38-macosx_10_9_x86_64.whl (7.4 MB)\n",
      "\u001b[K     |████████████████████████████████| 7.4 MB 2.4 MB/s eta 0:00:01\n",
      "\u001b[?25hInstalling collected packages: gurobipy\n",
      "Successfully installed gurobipy-9.5.2\n"
     ]
    }
   ],
   "source": [
    "import sys\n",
    "!{sys.executable} -m pip install gurobipy\n"
   ]
  },
  {
   "cell_type": "code",
   "execution_count": 1,
   "metadata": {},
   "outputs": [],
   "source": [
    "# -*- coding: utf-8 -*-\n",
    "from objectives import *  \n",
    "from optimize_reform import * \n",
    "from read_input import *\n",
    "import os\n",
    "\n",
    "\n",
    "%matplotlib inline\n",
    "PYTHONIOENCODING=\"utf-8\"\n"
   ]
  },
  {
   "cell_type": "markdown",
   "metadata": {
    "collapsed": true
   },
   "source": [
    "## Define the scenario\n",
    "Here you can define: \n",
    "- the weights for each objective, <code>w_p, w_a, w_f, w_e</code>, they should sum up to 1\n",
    "- the <code>corpus_weights</code> which are weights for different text corpora (if any), they should sum up to 1\n",
    "- the <code>char_set</code> that contains the to-be-mapped characters\n",
    "- the <code>scenario</code> that defines the characters that are fixed (from the character set) and where they are positioned\n",
    "\n",
    "The example uses a very small test set. The necessary files for the optimization scenario used to optimize the French keyboard standard are also available in the <code>input</code> folder. \n",
    "To create your own scenarios or charactersets see the description below"
   ]
  },
  {
   "cell_type": "code",
   "execution_count": 2,
   "metadata": {},
   "outputs": [],
   "source": [
    "# Define the weights for:\n",
    "# w_p: Performance\n",
    "# w_a: Association\n",
    "# w_f: Familiarity\n",
    "# w_e: Ergonomics\n",
    "w_p, w_a, w_f, w_e = [0.25,0.25,0.25,0.25]\n",
    "\n",
    "# Define weights for the frequency distributions coming from different corpora. If none are provided, they are all weighted equally\n",
    "# the key used in the dict is searched for in the filename of the frequency file \n",
    "# and thus should uniquely identify the file in \"input/frequencies/\"\n",
    "corpus_weights = {\"academicTagalog\": 0.2, \"Taglish5050\": 0.2, \"Taglish7030\": 0.2, \"cohfie\": 0.2, \"storyTagalog\": 0.2}\n",
    "\n",
    "# see input file \"input/fixed/fixed_XXXX.txt\"\n",
    "scenario = \"scenarioQWERTY\"\n",
    "# see input file \"input/characters/characters_XXXX.txt\"\n",
    "char_set = \"setQWERTY\"\n",
    "# Define the scenario (also done by the optimize function below, but needed when just plotting or evaluating mappings)\n",
    "set_scenario_files(scenario, char_set)"
   ]
  },
  {
   "cell_type": "markdown",
   "metadata": {},
   "source": [
    "## Optimize \n",
    "Run the <code> optimize </code> method to optimize the keyboard. \n",
    "It returns the optimization model and the optimized mapping.\n",
    "Intermediate solutions are stored in the folder <code> mappings </code>\n",
    "They can later be read in using the method <code> get_mapping(path_to_mapping) </code> which returns a dictionary of characters to keyslots\n",
    "\n",
    "Note, this is only done in the notebook for demonstration purposes. The following code should be executed on a powerful server or cluster. Depending on the input data computation of an acceptible solution can take several days."
   ]
  },
  {
   "cell_type": "code",
   "execution_count": 3,
   "metadata": {
    "scrolled": true
   },
   "outputs": [
    {
     "name": "stdout",
     "output_type": "stream",
     "text": [
      "Create optimization lp file\n",
      "{'q': 'D01', 'w': 'D02', 'e': 'D03', 'r': 'D04', 't': 'D05', 'y': 'D06', 'u': 'D07', 'i': 'D08', 'o': 'D09', 'p': 'D10', 'a': 'C01', 's': 'C02', 'd': 'C03', 'f': 'C04', 'g': 'C05', 'h': 'C06', 'j': 'C07', 'k': 'C08', 'l': 'C09', 'z': 'B01', 'x': 'B02', 'c': 'B03', 'v': 'B04', 'b': 'B05', 'n': 'B06', 'm': 'B07', '[': 'D11', ']': 'D12', '\\\\': 'D13', ';': 'C10', \"'\": 'C11', ',': 'B08', '.': 'B09', '/': 'B10', 'space': 'A03', '`': 'E00', '1': 'E01', '2': 'E02', '3': 'E03', '4': 'E04', '5': 'E05', '6': 'E06', '7': 'E07', '8': 'E08', '9': 'E09', '0': 'E10', '-': 'E11', '=': 'E12', '~': 'E00_Shift', '!': 'E01_Shift', '@': 'E02_Shift', '#': 'E03_Shift', '$': 'E04_Shift', '%': 'E05_Shift', '^': 'E06_Shift', '&': 'E07_Shift', '*': 'E08_Shift', '(': 'E09_Shift', ')': 'E10_Shift', '_': 'E11_Shift', '+': 'E12_Shift', '{': 'D11_Shift', '}': 'D12_Shift', '|': 'D13_Shift', ':': 'C10_Shift', '\"': 'C11_Shift', '<': 'B08_Shift', '>': 'B09_Shift', '?': 'B10_Shift'}\n",
      "VALUE 0.000000000000 0.000000000000 0.000000000000 0.000000000000 0.000000000000 0.000000000000 0.000000000000 0.000000000000 0.000000000000 0.000000000000 0.000000000000 0.000000000000 0.000000000000 0.000000000000 0.000000000000 0.000000000000 0.000000000000 0.000000000000 0.000000000000 0.000000000000 0.000000000000 0.000000000000 0.000000000000 0.000000000000 0.000000000000 0.000000000000 0 0 0 0 0 0 0 0 0 0 0 0 0 0 0 0 0 0 0 0 0 0 0 0 0 0 0 0 0 0 0 0 0 0 0 0 0 0 0 0 0 0 0\n",
      "VALUE 0.000000000000 0.000000000000 0.000000000000 0.000000000000 0.000000000000 0.000000000000 0.000000000000 0.000000000000 0.000000000000 0.000000000000 0.000000000000 0.000000000000 0.000000000000 0.000000000000 0.000000000000 0.000000000000 0.000000000000 0.000000000000 0.000000000000 0.000000000000 0.000000000000 0.000000000000 0.000000000000 0.000000000000 0.000000000000 0.000000000000 0 0 0 0 0 0 0 0 0 0 0 0 0 0 0 0 0 0 0 0 0 0 0 0 0 0 0 0 0 0 0 0 0 0 0 0 0 0 0 0 0 0 0\n",
      "VALUE 0.000000000000 0.000000000000 0.000000000000 0.000000000000 0.000000000000 0.000000000000 0.000000000000 0.000000000000 0.000000000000 0.000000000000 0.000000000000 0.000000000000 0.000000000000 0.000000000000 0.000000000000 0.000000000000 0.000000000000 0.000000000000 0.000000000000 0.000000000000 0.000000000000 0.000000000000 0.000000000000 0.000000000000 0.000000000000 0.000000000000 0 0 0 0 0 0 0 0 0 0 0 0 0 0 0 0 0 0 0 0 0 0 0 0 0 0 0 0 0 0 0 0 0 0 0 0 0 0 0 0 0 0 0\n",
      "VALUE 0.000000000000 0.000000000000 0.000000000000 0.000000000000 0.000000000000 0.000000000000 0.000000000000 0.000000000000 0.000000000000 0.000000000000 0.000000000000 0.000000000000 0.000000000000 0.000000000000 0.000000000000 0.000000000000 0.000000000000 0.000000000000 0.000000000000 0.000000000000 0.000000000000 0.000000000000 0.000000000000 0.000000000000 0.000000000000 0.000000000000 0 0 0 0 0 0 0 0 0 0 0 0 0 0 0 0 0 0 0 0 0 0 0 0 0 0 0 0 0 0 0 0 0 0 0 0 0 0 0 0 0 0 0\n",
      "VALUE 0.000000000000 0.000000000000 0.000000000000 0.000000000000 0.000000000000 0.000000000000 0.000000000000 0.000000000000 0.000000000000 0.000000000000 0.000000000000 0.000000000000 0.000000000000 0.000000000000 0.000000000000 0.000000000000 0.000000000000 0.000000000000 0.000000000000 0.000000000000 0.000000000000 0.000000000000 0.000000000000 0.000000000000 0.000000000000 0.000000000000 0 0 0 0 0 0 0 0 0 0 0 0 0 0 0 0 0 0 0 0 0 0 0 0 0 0 0 0 0 0 0 0 0 0 0 0 0 0 0 0 0 0 0\n",
      "VALUE 0.000000000000 0.000000000000 0.000000000000 0.000000000000 0.000000000000 0.000000000000 0.000000000000 0.000000000000 0.000000000000 0.000000000000 0.000000000000 0.000000000000 0.000000000000 0.000000000000 0.000000000000 0.000000000000 0.000000000000 0.000000000000 0.000000000000 0.000000000000 0.000000000000 0.000000000000 0.000000000000 0.000000000000 0.000000000000 0.000000000000 0 0 0 0 0 0 0 0 0 0 0 0 0 0 0 0 0 0 0 0 0 0 0 0 0 0 0 0 0 0 0 0 0 0 0 0 0 0 0 0 0 0 0\n",
      "VALUE 0.000000000000 0.000000000000 0.000000000000 0.000000000000 0.000000000000 0.000000000000 0.000000000000 0.000000000000 0.000000000000 0.000000000000 0.000000000000 0.000000000000 0.000000000000 0.000000000000 0.000000000000 0.000000000000 0.000000000000 0.000000000000 0.000000000000 0.000000000000 0.000000000000 0.000000000000 0.000000000000 0.000000000000 0.000000000000 0.000000000000 0 0 0 0 0 0 0 0 0 0 0 0 0 0 0 0 0 0 0 0 0 0 0 0 0 0 0 0 0 0 0 0 0 0 0 0 0 0 0 0 0 0 0\n",
      "VALUE 0.000000000000 0.000000000000 0.000000000000 0.000000000000 0.000000000000 0.000000000000 0.000000000000 0.000000000000 0.000000000000 0.000000000000 0.000000000000 0.000000000000 0.000000000000 0.000000000000 0.000000000000 0.000000000000 0.000000000000 0.000000000000 0.000000000000 0.000000000000 0.000000000000 0.000000000000 0.000000000000 0.000000000000 0.000000000000 0.000000000000 0 0 0 0 0 0 0 0 0 0 0 0 0 0 0 0 0 0 0 0 0 0 0 0 0 0 0 0 0 0 0 0 0 0 0 0 0 0 0 0 0 0 0\n",
      "VALUE 0.000000000000 0.000000000000 0.000000000000 0.000000000000 0.000000000000 0.000000000000 0.000000000000 0.000000000000 0.000000000000 0.000000000000 0.000000000000 0.000000000000 0.000000000000 0.000000000000 0.000000000000 0.000000000000 0.000000000000 0.000000000000 0.000000000000 0.000000000000 0.000000000000 0.000000000000 0.000000000000 0.000000000000 0.000000000000 0.000000000000 0 0 0 0 0 0 0 0 0 0 0 0 0 0 0 0 0 0 0 0 0 0 0 0 0 0 0 0 0 0 0 0 0 0 0 0 0 0 0 0 0 0 0\n",
      "VALUE 0.000000000000 0.000000000000 0.000000000000 0.000000000000 0.000000000000 0.000000000000 0.000000000000 0.000000000000 0.000000000000 0.000000000000 0.000000000000 0.000000000000 0.000000000000 0.000000000000 0.000000000000 0.000000000000 0.000000000000 0.000000000000 0.000000000000 0.000000000000 0.000000000000 0.000000000000 0.000000000000 0.000000000000 0.000000000000 0.000000000000 0 0 0 0 0 0 0 0 0 0 0 0 0 0 0 0 0 0 0 0 0 0 0 0 0 0 0 0 0 0 0 0 0 0 0 0 0 0 0 0 0 0 0\n",
      "VALUE 0.000000000000 0.000000000000 0.000000000000 0.000000000000 0.000000000000 0.000000000000 0.000000000000 0.000000000000 0.000000000000 0.000000000000 0.000000000000 0.000000000000 0.000000000000 0.000000000000 0.000000000000 0.000000000000 0.000000000000 0.000000000000 0.000000000000 0.000000000000 0.000000000000 0.000000000000 0.000000000000 0.000000000000 0.000000000000 0.000000000000 0 0 0 0 0 0 0 0 0 0 0 0 0 0 0 0 0 0 0 0 0 0 0 0 0 0 0 0 0 0 0 0 0 0 0 0 0 0 0 0 0 0 0\n",
      "VALUE 0.000000000000 0.000000000000 0.000000000000 0.000000000000 0.000000000000 0.000000000000 0.000000000000 0.000000000000 0.000000000000 0.000000000000 0.000000000000 0.000000000000 0.000000000000 0.000000000000 0.000000000000 0.000000000000 0.000000000000 0.000000000000 0.000000000000 0.000000000000 0.000000000000 0.000000000000 0.000000000000 0.000000000000 0.000000000000 0.000000000000 0 0 0 0 0 0 0 0 0 0 0 0 0 0 0 0 0 0 0 0 0 0 0 0 0 0 0 0 0 0 0 0 0 0 0 0 0 0 0 0 0 0 0\n",
      "VALUE 0.000000000000 0.000000000000 0.000000000000 0.000000000000 0.000000000000 0.000000000000 0.000000000000 0.000000000000 0.000000000000 0.000000000000 0.000000000000 0.000000000000 0.000000000000 0.000000000000 0.000000000000 0.000000000000 0.000000000000 0.000000000000 0.000000000000 0.000000000000 0.000000000000 0.000000000000 0.000000000000 0.000000000000 0.000000000000 0.000000000000 0 0 0 0 0 0 0 0 0 0 0 0 0 0 0 0 0 0 0 0 0 0 0 0 0 0 0 0 0 0 0 0 0 0 0 0 0 0 0 0 0 0 0\n",
      "VALUE 0.000000000000 0.000000000000 0.000000000000 0.000000000000 0.000000000000 0.000000000000 0.000000000000 0.000000000000 0.000000000000 0.000000000000 0.000000000000 0.000000000000 0.000000000000 0.000000000000 0.000000000000 0.000000000000 0.000000000000 0.000000000000 0.000000000000 0.000000000000 0.000000000000 0.000000000000 0.000000000000 0.000000000000 0.000000000000 0.000000000000 0 0 0 0 0 0 0 0 0 0 0 0 0 0 0 0 0 0 0 0 0 0 0 0 0 0 0 0 0 0 0 0 0 0 0 0 0 0 0 0 0 0 0\n",
      "VALUE 0.000000000000 0.000000000000 0.000000000000 0.000000000000 0.000000000000 0.000000000000 0.000000000000 0.000000000000 0.000000000000 0.000000000000 0.000000000000 0.000000000000 0.000000000000 0.000000000000 0.000000000000 0.000000000000 0.000000000000 0.000000000000 0.000000000000 0.000000000000 0.000000000000 0.000000000000 0.000000000000 0.000000000000 0.000000000000 0.000000000000 0 0 0 0 0 0 0 0 0 0 0 0 0 0 0 0 0 0 0 0 0 0 0 0 0 0 0 0 0 0 0 0 0 0 0 0 0 0 0 0 0 0 0\n",
      "VALUE 0.000000000000 0.000000000000 0.000000000000 0.000000000000 0.000000000000 0.000000000000 0.000000000000 0.000000000000 0.000000000000 0.000000000000 0.000000000000 0.000000000000 0.000000000000 0.000000000000 0.000000000000 0.000000000000 0.000000000000 0.000000000000 0.000000000000 0.000000000000 0.000000000000 0.000000000000 0.000000000000 0.000000000000 0.000000000000 0.000000000000 0 0 0 0 0 0 0 0 0 0 0 0 0 0 0 0 0 0 0 0 0 0 0 0 0 0 0 0 0 0 0 0 0 0 0 0 0 0 0 0 0 0 0\n",
      "VALUE 0.000000000000 0.000000000000 0.000000000000 0.000000000000 0.000000000000 0.000000000000 0.000000000000 0.000000000000 0.000000000000 0.000000000000 0.000000000000 0.000000000000 0.000000000000 0.000000000000 0.000000000000 0.000000000000 0.000000000000 0.000000000000 0.000000000000 0.000000000000 0.000000000000 0.000000000000 0.000000000000 0.000000000000 0.000000000000 0.000000000000 0 0 0 0 0 0 0 0 0 0 0 0 0 0 0 0 0 0 0 0 0 0 0 0 0 0 0 0 0 0 0 0 0 0 0 0 0 0 0 0 0 0 0\n",
      "VALUE 0.000000000000 0.000000000000 0.000000000000 0.000000000000 0.000000000000 0.000000000000 0.000000000000 0.000000000000 0.000000000000 0.000000000000 0.000000000000 0.000000000000 0.000000000000 0.000000000000 0.000000000000 0.000000000000 0.000000000000 0.000000000000 0.000000000000 0.000000000000 0.000000000000 0.000000000000 0.000000000000 0.000000000000 0.000000000000 0.000000000000 0 0 0 0 0 0 0 0 0 0 0 0 0 0 0 0 0 0 0 0 0 0 0 0 0 0 0 0 0 0 0 0 0 0 0 0 0 0 0 0 0 0 0\n",
      "VALUE 0.000000000000 0.000000000000 0.000000000000 0.000000000000 0.000000000000 0.000000000000 0.000000000000 0.000000000000 0.000000000000 0.000000000000 0.000000000000 0.000000000000 0.000000000000 0.000000000000 0.000000000000 0.000000000000 0.000000000000 0.000000000000 0.000000000000 0.000000000000 0.000000000000 0.000000000000 0.000000000000 0.000000000000 0.000000000000 0.000000000000 0 0 0 0 0 0 0 0 0 0 0 0 0 0 0 0 0 0 0 0 0 0 0 0 0 0 0 0 0 0 0 0 0 0 0 0 0 0 0 0 0 0 0\n",
      "VALUE 0.000000000000 0.000000000000 0.000000000000 0.000000000000 0.000000000000 0.000000000000 0.000000000000 0.000000000000 0.000000000000 0.000000000000 0.000000000000 0.000000000000 0.000000000000 0.000000000000 0.000000000000 0.000000000000 0.000000000000 0.000000000000 0.000000000000 0.000000000000 0.000000000000 0.000000000000 0.000000000000 0.000000000000 0.000000000000 0.000000000000 0 0 0 0 0 0 0 0 0 0 0 0 0 0 0 0 0 0 0 0 0 0 0 0 0 0 0 0 0 0 0 0 0 0 0 0 0 0 0 0 0 0 0\n",
      "VALUE 0.000000000000 0.000000000000 0.000000000000 0.000000000000 0.000000000000 0.000000000000 0.000000000000 0.000000000000 0.000000000000 0.000000000000 0.000000000000 0.000000000000 0.000000000000 0.000000000000 0.000000000000 0.000000000000 0.000000000000 0.000000000000 0.000000000000 0.000000000000 0.000000000000 0.000000000000 0.000000000000 0.000000000000 0.000000000000 0.000000000000 0 0 0 0 0 0 0 0 0 0 0 0 0 0 0 0 0 0 0 0 0 0 0 0 0 0 0 0 0 0 0 0 0 0 0 0 0 0 0 0 0 0 0\n",
      "VALUE 0.000000000000 0.000000000000 0.000000000000 0.000000000000 0.000000000000 0.000000000000 0.000000000000 0.000000000000 0.000000000000 0.000000000000 0.000000000000 0.000000000000 0.000000000000 0.000000000000 0.000000000000 0.000000000000 0.000000000000 0.000000000000 0.000000000000 0.000000000000 0.000000000000 0.000000000000 0.000000000000 0.000000000000 0.000000000000 0.000000000000 0 0 0 0 0 0 0 0 0 0 0 0 0 0 0 0 0 0 0 0 0 0 0 0 0 0 0 0 0 0 0 0 0 0 0 0 0 0 0 0 0 0 0\n",
      "VALUE 0.000000000000 0.000000000000 0.000000000000 0.000000000000 0.000000000000 0.000000000000 0.000000000000 0.000000000000 0.000000000000 0.000000000000 0.000000000000 0.000000000000 0.000000000000 0.000000000000 0.000000000000 0.000000000000 0.000000000000 0.000000000000 0.000000000000 0.000000000000 0.000000000000 0.000000000000 0.000000000000 0.000000000000 0.000000000000 0.000000000000 0 0 0 0 0 0 0 0 0 0 0 0 0 0 0 0 0 0 0 0 0 0 0 0 0 0 0 0 0 0 0 0 0 0 0 0 0 0 0 0 0 0 0\n",
      "VALUE 0.000000000000 0.000000000000 0.000000000000 0.000000000000 0.000000000000 0.000000000000 0.000000000000 0.000000000000 0.000000000000 0.000000000000 0.000000000000 0.000000000000 0.000000000000 0.000000000000 0.000000000000 0.000000000000 0.000000000000 0.000000000000 0.000000000000 0.000000000000 0.000000000000 0.000000000000 0.000000000000 0.000000000000 0.000000000000 0.000000000000 0 0 0 0 0 0 0 0 0 0 0 0 0 0 0 0 0 0 0 0 0 0 0 0 0 0 0 0 0 0 0 0 0 0 0 0 0 0 0 0 0 0 0\n",
      "VALUE 0.000000000000 0.000000000000 0.000000000000 0.000000000000 0.000000000000 0.000000000000 0.000000000000 0.000000000000 0.000000000000 0.000000000000 0.000000000000 0.000000000000 0.000000000000 0.000000000000 0.000000000000 0.000000000000 0.000000000000 0.000000000000 0.000000000000 0.000000000000 0.000000000000 0.000000000000 0.000000000000 0.000000000000 0.000000000000 0.000000000000 0 0 0 0 0 0 0 0 0 0 0 0 0 0 0 0 0 0 0 0 0 0 0 0 0 0 0 0 0 0 0 0 0 0 0 0 0 0 0 0 0 0 0\n",
      "VALUE 0.000000000000 0.000000000000 0.000000000000 0.000000000000 0.000000000000 0.000000000000 0.000000000000 0.000000000000 0.000000000000 0.000000000000 0.000000000000 0.000000000000 0.000000000000 0.000000000000 0.000000000000 0.000000000000 0.000000000000 0.000000000000 0.000000000000 0.000000000000 0.000000000000 0.000000000000 0.000000000000 0.000000000000 0.000000000000 0.000000000000 0 0 0 0 0 0 0 0 0 0 0 0 0 0 0 0 0 0 0 0 0 0 0 0 0 0 0 0 0 0 0 0 0 0 0 0 0 0 0 0 0 0 0\n",
      "VALUE 0 0 0 0 0 0 0 0 0 0 0 0 0 0 0 0 0 0 0 0 0 0 0 0 0 0 0 0 0 0 0 0 0 0 0 0 0 0 0 0 0 0 0 0 0 0 0 0 0 0 0 0 0 0 0 0 0 0 0 0 0 0 0 0 0 0 0 0 0\n",
      "VALUE 0 0 0 0 0 0 0 0 0 0 0 0 0 0 0 0 0 0 0 0 0 0 0 0 0 0 0 0 0 0 0 0 0 0 0 0 0 0 0 0 0 0 0 0 0 0 0 0 0 0 0 0 0 0 0 0 0 0 0 0 0 0 0 0 0 0 0 0 0\n",
      "VALUE 0 0 0 0 0 0 0 0 0 0 0 0 0 0 0 0 0 0 0 0 0 0 0 0 0 0 0 0 0 0 0 0 0 0 0 0 0 0 0 0 0 0 0 0 0 0 0 0 0 0 0 0 0 0 0 0 0 0 0 0 0 0 0 0 0 0 0 0 0\n",
      "VALUE 0 0 0 0 0 0 0 0 0 0 0 0 0 0 0 0 0 0 0 0 0 0 0 0 0 0 0 0 0 0 0 0 0 0 0 0 0 0 0 0 0 0 0 0 0 0 0 0 0 0 0 0 0 0 0 0 0 0 0 0 0 0 0 0 0 0 0 0 0\n",
      "VALUE 0 0 0 0 0 0 0 0 0 0 0 0 0 0 0 0 0 0 0 0 0 0 0 0 0 0 0 0 0 0 0 0 0 0 0 0 0 0 0 0 0 0 0 0 0 0 0 0 0 0 0 0 0 0 0 0 0 0 0 0 0 0 0 0 0 0 0 0 0\n",
      "VALUE 0 0 0 0 0 0 0 0 0 0 0 0 0 0 0 0 0 0 0 0 0 0 0 0 0 0 0 0 0 0 0 0 0 0 0 0 0 0 0 0 0 0 0 0 0 0 0 0 0 0 0 0 0 0 0 0 0 0 0 0 0 0 0 0 0 0 0 0 0\n",
      "VALUE 0 0 0 0 0 0 0 0 0 0 0 0 0 0 0 0 0 0 0 0 0 0 0 0 0 0 0 0 0 0 0 0 0 0 0 0 0 0 0 0 0 0 0 0 0 0 0 0 0 0 0 0 0 0 0 0 0 0 0 0 0 0 0 0 0 0 0 0 0\n",
      "VALUE 0 0 0 0 0 0 0 0 0 0 0 0 0 0 0 0 0 0 0 0 0 0 0 0 0 0 0 0 0 0 0 0 0 0 0 0 0 0 0 0 0 0 0 0 0 0 0 0 0 0 0 0 0 0 0 0 0 0 0 0 0 0 0 0 0 0 0 0 0\n",
      "VALUE 0 0 0 0 0 0 0 0 0 0 0 0 0 0 0 0 0 0 0 0 0 0 0 0 0 0 0 0 0 0 0 0 0 0 0 0 0 0 0 0 0 0 0 0 0 0 0 0 0 0 0 0 0 0 0 0 0 0 0 0 0 0 0 0 0 0 0 0 0\n",
      "VALUE 0 0 0 0 0 0 0 0 0 0 0 0 0 0 0 0 0 0 0 0 0 0 0 0 0 0 0 0 0 0 0 0 0 0 0 0 0 0 0 0 0 0 0 0 0 0 0 0 0 0 0 0 0 0 0 0 0 0 0 0 0 0 0 0 0 0 0 0 0\n",
      "VALUE 0 0 0 0 0 0 0 0 0 0 0 0 0 0 0 0 0 0 0 0 0 0 0 0 0 0 0 0 0 0 0 0 0 0 0 0 0 0 0 0 0 0 0 0 0 0 0 0 0 0 0 0 0 0 0 0 0 0 0 0 0 0 0 0 0 0 0 0 0\n",
      "VALUE 0 0 0 0 0 0 0 0 0 0 0 0 0 0 0 0 0 0 0 0 0 0 0 0 0 0 0 0 0 0 0 0 0 0 0 0 0 0 0 0 0 0 0 0 0 0 0 0 0 0 0 0 0 0 0 0 0 0 0 0 0 0 0 0 0 0 0 0 0\n",
      "VALUE 0 0 0 0 0 0 0 0 0 0 0 0 0 0 0 0 0 0 0 0 0 0 0 0 0 0 0 0 0 0 0 0 0 0 0 0 0 0 0 0 0 0 0 0 0 0 0 0 0 0 0 0 0 0 0 0 0 0 0 0 0 0 0 0 0 0 0 0 0\n",
      "VALUE 0 0 0 0 0 0 0 0 0 0 0 0 0 0 0 0 0 0 0 0 0 0 0 0 0 0 0 0 0 0 0 0 0 0 0 0 0 0 0 0 0 0 0 0 0 0 0 0 0 0 0 0 0 0 0 0 0 0 0 0 0 0 0 0 0 0 0 0 0\n",
      "VALUE 0 0 0 0 0 0 0 0 0 0 0 0 0 0 0 0 0 0 0 0 0 0 0 0 0 0 0 0 0 0 0 0 0 0 0 0 0 0 0 0 0 0 0 0 0 0 0 0 0 0 0 0 0 0 0 0 0 0 0 0 0 0 0 0 0 0 0 0 0\n",
      "VALUE 0 0 0 0 0 0 0 0 0 0 0 0 0 0 0 0 0 0 0 0 0 0 0 0 0 0 0 0 0 0 0 0 0 0 0 0 0 0 0 0 0 0 0 0 0 0 0 0 0 0 0 0 0 0 0 0 0 0 0 0 0 0 0 0 0 0 0 0 0\n",
      "VALUE 0 0 0 0 0 0 0 0 0 0 0 0 0 0 0 0 0 0 0 0 0 0 0 0 0 0 0 0 0 0 0 0 0 0 0 0 0 0 0 0 0 0 0 0 0 0 0 0 0 0 0 0 0 0 0 0 0 0 0 0 0 0 0 0 0 0 0 0 0\n",
      "VALUE 0 0 0 0 0 0 0 0 0 0 0 0 0 0 0 0 0 0 0 0 0 0 0 0 0 0 0 0 0 0 0 0 0 0 0 0 0 0 0 0 0 0 0 0 0 0 0 0 0 0 0 0 0 0 0 0 0 0 0 0 0 0 0 0 0 0 0 0 0\n",
      "VALUE 0 0 0 0 0 0 0 0 0 0 0 0 0 0 0 0 0 0 0 0 0 0 0 0 0 0 0 0 0 0 0 0 0 0 0 0 0 0 0 0 0 0 0 0 0 0 0 0 0 0 0 0 0 0 0 0 0 0 0 0 0 0 0 0 0 0 0 0 0\n",
      "VALUE 0 0 0 0 0 0 0 0 0 0 0 0 0 0 0 0 0 0 0 0 0 0 0 0 0 0 0 0 0 0 0 0 0 0 0 0 0 0 0 0 0 0 0 0 0 0 0 0 0 0 0 0 0 0 0 0 0 0 0 0 0 0 0 0 0 0 0 0 0\n",
      "VALUE 0 0 0 0 0 0 0 0 0 0 0 0 0 0 0 0 0 0 0 0 0 0 0 0 0 0 0 0 0 0 0 0 0 0 0 0 0 0 0 0 0 0 0 0 0 0 0 0 0 0 0 0 0 0 0 0 0 0 0 0 0 0 0 0 0 0 0 0 0\n",
      "VALUE 0 0 0 0 0 0 0 0 0 0 0 0 0 0 0 0 0 0 0 0 0 0 0 0 0 0 0 0 0 0 0 0 0 0 0 0 0 0 0 0 0 0 0 0 0 0 0 0 0 0 0 0 0 0 0 0 0 0 0 0 0 0 0 0 0 0 0 0 0\n",
      "VALUE 0 0 0 0 0 0 0 0 0 0 0 0 0 0 0 0 0 0 0 0 0 0 0 0 0 0 0 0 0 0 0 0 0 0 0 0 0 0 0 0 0 0 0 0 0 0 0 0 0 0 0 0 0 0 0 0 0 0 0 0 0 0 0 0 0 0 0 0 0\n",
      "VALUE 0 0 0 0 0 0 0 0 0 0 0 0 0 0 0 0 0 0 0 0 0 0 0 0 0 0 0 0 0 0 0 0 0 0 0 0 0 0 0 0 0 0 0 0 0 0 0 0 0 0 0 0 0 0 0 0 0 0 0 0 0 0 0 0 0 0 0 0 0\n",
      "VALUE 0 0 0 0 0 0 0 0 0 0 0 0 0 0 0 0 0 0 0 0 0 0 0 0 0 0 0 0 0 0 0 0 0 0 0 0 0 0 0 0 0 0 0 0 0 0 0 0 0 0 0 0 0 0 0 0 0 0 0 0 0 0 0 0 0 0 0 0 0\n",
      "VALUE 0 0 0 0 0 0 0 0 0 0 0 0 0 0 0 0 0 0 0 0 0 0 0 0 0 0 0 0 0 0 0 0 0 0 0 0 0 0 0 0 0 0 0 0 0 0 0 0 0 0 0 0 0 0 0 0 0 0 0 0 0 0 0 0 0 0 0 0 0\n",
      "VALUE 0 0 0 0 0 0 0 0 0 0 0 0 0 0 0 0 0 0 0 0 0 0 0 0 0 0 0 0 0 0 0 0 0 0 0 0 0 0 0 0 0 0 0 0 0 0 0 0 0 0 0 0 0 0 0 0 0 0 0 0 0 0 0 0 0 0 0 0 0\n",
      "VALUE 0 0 0 0 0 0 0 0 0 0 0 0 0 0 0 0 0 0 0 0 0 0 0 0 0 0 0 0 0 0 0 0 0 0 0 0 0 0 0 0 0 0 0 0 0 0 0 0 0 0 0 0 0 0 0 0 0 0 0 0 0 0 0 0 0 0 0 0 0\n",
      "VALUE 0 0 0 0 0 0 0 0 0 0 0 0 0 0 0 0 0 0 0 0 0 0 0 0 0 0 0 0 0 0 0 0 0 0 0 0 0 0 0 0 0 0 0 0 0 0 0 0 0 0 0 0 0 0 0 0 0 0 0 0 0 0 0 0 0 0 0 0 0\n",
      "VALUE 0 0 0 0 0 0 0 0 0 0 0 0 0 0 0 0 0 0 0 0 0 0 0 0 0 0 0 0 0 0 0 0 0 0 0 0 0 0 0 0 0 0 0 0 0 0 0 0 0 0 0 0 0 0 0 0 0 0 0 0 0 0 0 0 0 0 0 0 0\n",
      "VALUE 0 0 0 0 0 0 0 0 0 0 0 0 0 0 0 0 0 0 0 0 0 0 0 0 0 0 0 0 0 0 0 0 0 0 0 0 0 0 0 0 0 0 0 0 0 0 0 0 0 0 0 0 0 0 0 0 0 0 0 0 0 0 0 0 0 0 0 0 0\n",
      "VALUE 0 0 0 0 0 0 0 0 0 0 0 0 0 0 0 0 0 0 0 0 0 0 0 0 0 0 0 0 0 0 0 0 0 0 0 0 0 0 0 0 0 0 0 0 0 0 0 0 0 0 0 0 0 0 0 0 0 0 0 0 0 0 0 0 0 0 0 0 0\n",
      "VALUE 0 0 0 0 0 0 0 0 0 0 0 0 0 0 0 0 0 0 0 0 0 0 0 0 0 0 0 0 0 0 0 0 0 0 0 0 0 0 0 0 0 0 0 0 0 0 0 0 0 0 0 0 0 0 0 0 0 0 0 0 0 0 0 0 0 0 0 0 0\n",
      "VALUE 0 0 0 0 0 0 0 0 0 0 0 0 0 0 0 0 0 0 0 0 0 0 0 0 0 0 0 0 0 0 0 0 0 0 0 0 0 0 0 0 0 0 0 0 0 0 0 0 0 0 0 0 0 0 0 0 0 0 0 0 0 0 0 0 0 0 0 0 0\n",
      "VALUE 0 0 0 0 0 0 0 0 0 0 0 0 0 0 0 0 0 0 0 0 0 0 0 0 0 0 0 0 0 0 0 0 0 0 0 0 0 0 0 0 0 0 0 0 0 0 0 0 0 0 0 0 0 0 0 0 0 0 0 0 0 0 0 0 0 0 0 0 0\n",
      "VALUE 0 0 0 0 0 0 0 0 0 0 0 0 0 0 0 0 0 0 0 0 0 0 0 0 0 0 0 0 0 0 0 0 0 0 0 0 0 0 0 0 0 0 0 0 0 0 0 0 0 0 0 0 0 0 0 0 0 0 0 0 0 0 0 0 0 0 0 0 0\n",
      "VALUE 0 0 0 0 0 0 0 0 0 0 0 0 0 0 0 0 0 0 0 0 0 0 0 0 0 0 0 0 0 0 0 0 0 0 0 0 0 0 0 0 0 0 0 0 0 0 0 0 0 0 0 0 0 0 0 0 0 0 0 0 0 0 0 0 0 0 0 0 0\n",
      "VALUE 0 0 0 0 0 0 0 0 0 0 0 0 0 0 0 0 0 0 0 0 0 0 0 0 0 0 0 0 0 0 0 0 0 0 0 0 0 0 0 0 0 0 0 0 0 0 0 0 0 0 0 0 0 0 0 0 0 0 0 0 0 0 0 0 0 0 0 0 0\n",
      "VALUE 0 0 0 0 0 0 0 0 0 0 0 0 0 0 0 0 0 0 0 0 0 0 0 0 0 0 0 0 0 0 0 0 0 0 0 0 0 0 0 0 0 0 0 0 0 0 0 0 0 0 0 0 0 0 0 0 0 0 0 0 0 0 0 0 0 0 0 0 0\n",
      "VALUE 0 0 0 0 0 0 0 0 0 0 0 0 0 0 0 0 0 0 0 0 0 0 0 0 0 0 0 0 0 0 0 0 0 0 0 0 0 0 0 0 0 0 0 0 0 0 0 0 0 0 0 0 0 0 0 0 0 0 0 0 0 0 0 0 0 0 0 0 0\n",
      "VALUE 0 0 0 0 0 0 0 0 0 0 0 0 0 0 0 0 0 0 0 0 0 0 0 0 0 0 0 0 0 0 0 0 0 0 0 0 0 0 0 0 0 0 0 0 0 0 0 0 0 0 0 0 0 0 0 0 0 0 0 0 0 0 0 0 0 0 0 0 0\n",
      "VALUE 0 0 0 0 0 0 0 0 0 0 0 0 0 0 0 0 0 0 0 0 0 0 0 0 0 0 0 0 0 0 0 0 0 0 0 0 0 0 0 0 0 0 0 0 0 0 0 0 0 0 0 0 0 0 0 0 0 0 0 0 0 0 0 0 0 0 0 0 0\n",
      "VALUE 0 0 0 0 0 0 0 0 0 0 0 0 0 0 0 0 0 0 0 0 0 0 0 0 0 0 0 0 0 0 0 0 0 0 0 0 0 0 0 0 0 0 0 0 0 0 0 0 0 0 0 0 0 0 0 0 0 0 0 0 0 0 0 0 0 0 0 0 0\n"
     ]
    },
    {
     "name": "stdout",
     "output_type": "stream",
     "text": [
      "{'[': 'D11', ']': 'D12', '\\\\': 'D13', ';': 'C10', \"'\": 'C11', ',': 'B08', '.': 'B09', '/': 'B10', 'space': 'A03', '`': 'E00', '1': 'E01', '2': 'E02', '3': 'E03', '4': 'E04', '5': 'E05', '6': 'E06', '7': 'E07', '8': 'E08', '9': 'E09', '0': 'E10', '-': 'E11', '=': 'E12', '~': 'E00_Shift', '!': 'E01_Shift', '@': 'E02_Shift', '#': 'E03_Shift', '$': 'E04_Shift', '%': 'E05_Shift', '^': 'E06_Shift', '&': 'E07_Shift', '*': 'E08_Shift', '(': 'E09_Shift', ')': 'E10_Shift', '_': 'E11_Shift', '+': 'E12_Shift', '{': 'D11_Shift', '}': 'D12_Shift', '|': 'D13_Shift', ':': 'C10_Shift', '\"': 'C11_Shift', '<': 'B08_Shift', '>': 'B09_Shift', '?': 'B10_Shift'}\n",
      "Adding fixation constraints\n",
      "Adding coherence constraints\n",
      "Adding capitalization constraints\n",
      "filename: scenarioQWERTYsetQWERTY_reform_constrained\n",
      "directory: mappings/scenarioQWERTYsetQWERTY/\n",
      "Set parameter Username\n",
      "Academic license - for non-commercial use only - expires 2023-07-01\n",
      "Read LP format model from file mappings/reformulations/scenarioQWERTYsetQWERTY_reform_constrained.lp\n",
      "Reading time = 0.02 seconds\n",
      ": 4899 rows, 9522 columns, 14283 nonzeros\n",
      "Set parameter NodefileStart to value 0.5\n",
      "optimizing...\n",
      "Gurobi Optimizer version 9.5.2 build v9.5.2rc0 (mac64[rosetta2])\n",
      "Thread count: 8 physical cores, 8 logical processors, using up to 8 threads\n",
      "Optimize a model with 4899 rows, 9522 columns and 14283 nonzeros\n",
      "Model fingerprint: 0x64b00a87\n",
      "Variable types: 4761 continuous, 4761 integer (4761 binary)\n",
      "Coefficient statistics:\n",
      "  Matrix range     [1e+00, 1e+00]\n",
      "  Objective range  [2e-07, 1e+00]\n",
      "  Bounds range     [1e+00, 1e+00]\n",
      "  RHS range        [1e+00, 1e+00]\n",
      "Found incumbent soln at node 0 objective 0.317858\n",
      "Found heuristic solution: objective 0.3178583\n",
      "Presolve removed 4761 rows and 4761 columns\n",
      "Presolve time: 0.01s\n",
      "Presolved: 138 rows, 4761 columns, 9522 nonzeros\n",
      "Variable types: 0 continuous, 4761 integer (4761 binary)\n",
      "\n",
      "Root relaxation: objective 1.569250e-03, 149 iterations, 0.00 seconds (0.00 work units)\n",
      "Found incumbent soln at node 0 objective 0.001569\n",
      "\n",
      "    Nodes    |    Current Node    |     Objective Bounds      |     Work\n",
      " Expl Unexpl |  Obj  Depth IntInf | Incumbent    BestBd   Gap | It/Node Time\n",
      "\n",
      "*    0     0               0       0.0015693    0.00157  0.00%     -    0s\n",
      "\n",
      "Explored 1 nodes (149 simplex iterations) in 0.06 seconds (0.02 work units)\n",
      "Thread count was 8 (of 8 available processors)\n",
      "\n",
      "Solution count 2: 0.00156925 0.317858 \n",
      "\n",
      "Optimal solution found (tolerance 1.00e-04)\n",
      "Best objective 1.569250000000e-03, best bound 1.569250000000e-03, gap 0.0000%\n",
      "\n",
      "User-callback calls 150, time in user-callback 0.01 sec\n",
      "Optimal objective: 0.00156925\n",
      "{'q': 'D01', 'w': 'D02', 'e': 'D03', 'r': 'D04', 't': 'D05', 'y': 'D06', 'u': 'D07', 'i': 'D08', 'o': 'D09', 'p': 'D10', 'a': 'C01', 's': 'C02', 'd': 'C03', 'f': 'C04', 'g': 'C05', 'h': 'C06', 'j': 'C07', 'k': 'C08', 'l': 'C09', 'z': 'B01', 'x': 'B02', 'c': 'B03', 'v': 'B04', 'b': 'B05', 'n': 'B06', 'm': 'B07', '[': 'D11', ']': 'D12', '\\\\': 'D13', ';': 'C10', \"'\": 'C11', ',': 'B08', '.': 'B09', '/': 'B10', 'space': 'A03', '`': 'E00', '1': 'E01', '2': 'E02', '3': 'E03', '4': 'E04', '5': 'E05', '6': 'E06', '7': 'E07', '8': 'E08', '9': 'E09', '0': 'E10', '-': 'E11', '=': 'E12', '~': 'E00_Shift', '!': 'E01_Shift', '@': 'E02_Shift', '#': 'E03_Shift', '$': 'E04_Shift', '%': 'E05_Shift', '^': 'E06_Shift', '&': 'E07_Shift', '*': 'E08_Shift', '(': 'E09_Shift', ')': 'E10_Shift', '_': 'E11_Shift', '+': 'E12_Shift', '{': 'D11_Shift', '}': 'D12_Shift', '|': 'D13_Shift', ':': 'C10_Shift', '\"': 'C11_Shift', '<': 'B08_Shift', '>': 'B09_Shift', '?': 'B10_Shift'}\n",
      "{'[': 'D11', ']': 'D12', '\\\\': 'D13', ';': 'C10', \"'\": 'C11', ',': 'B08', '.': 'B09', '/': 'B10', 'space': 'A03', '`': 'E00', '1': 'E01', '2': 'E02', '3': 'E03', '4': 'E04', '5': 'E05', '6': 'E06', '7': 'E07', '8': 'E08', '9': 'E09', '0': 'E10', '-': 'E11', '=': 'E12', '~': 'E00_Shift', '!': 'E01_Shift', '@': 'E02_Shift', '#': 'E03_Shift', '$': 'E04_Shift', '%': 'E05_Shift', '^': 'E06_Shift', '&': 'E07_Shift', '*': 'E08_Shift', '(': 'E09_Shift', ')': 'E10_Shift', '_': 'E11_Shift', '+': 'E12_Shift', '{': 'D11_Shift', '}': 'D12_Shift', '|': 'D13_Shift', ':': 'C10_Shift', '\"': 'C11_Shift', '<': 'B08_Shift', '>': 'B09_Shift', '?': 'B10_Shift'}\n",
      "Ergonomics negative, rounded to 0: -0.001508\n",
      "objective:  0.00065925\n",
      "{'q': 'D01', 'w': 'D02', 'e': 'D03', 'r': 'D04', 't': 'D05', 'y': 'D06', 'u': 'D07', 'i': 'D08', 'o': 'D09', 'p': 'D10', 'a': 'C01', 's': 'C02', 'd': 'C03', 'f': 'C04', 'g': 'C05', 'h': 'C06', 'j': 'C07', 'k': 'C08', 'l': 'C09', 'z': 'B01', 'x': 'B02', 'c': 'B03', 'v': 'B04', 'b': 'B05', 'n': 'B06', 'm': 'B07', '[': 'D11', ']': 'D12', '\\\\': 'D13', ';': 'C10', \"'\": 'C11', ',': 'B08', '.': 'B09', '/': 'B10', 'space': 'A03', '`': 'E00', '1': 'E01', '2': 'E02', '3': 'E03', '4': 'E04', '5': 'E05', '6': 'E06', '7': 'E07', '8': 'E08', '9': 'E09', '0': 'E10', '-': 'E11', '=': 'E12', '~': 'E00_Shift', '!': 'E01_Shift', '@': 'E02_Shift', '#': 'E03_Shift', '$': 'E04_Shift', '%': 'E05_Shift', '^': 'E06_Shift', '&': 'E07_Shift', '*': 'E08_Shift', '(': 'E09_Shift', ')': 'E10_Shift', '_': 'E11_Shift', '+': 'E12_Shift', '{': 'D11_Shift', '}': 'D12_Shift', '|': 'D13_Shift', ':': 'C10_Shift', '\"': 'C11_Shift', '<': 'B08_Shift', '>': 'B09_Shift', '?': 'B10_Shift'}\n",
      "{'[': 'D11', ']': 'D12', '\\\\': 'D13', ';': 'C10', \"'\": 'C11', ',': 'B08', '.': 'B09', '/': 'B10', 'space': 'A03', '`': 'E00', '1': 'E01', '2': 'E02', '3': 'E03', '4': 'E04', '5': 'E05', '6': 'E06', '7': 'E07', '8': 'E08', '9': 'E09', '0': 'E10', '-': 'E11', '=': 'E12', '~': 'E00_Shift', '!': 'E01_Shift', '@': 'E02_Shift', '#': 'E03_Shift', '$': 'E04_Shift', '%': 'E05_Shift', '^': 'E06_Shift', '&': 'E07_Shift', '*': 'E08_Shift', '(': 'E09_Shift', ')': 'E10_Shift', '_': 'E11_Shift', '+': 'E12_Shift', '{': 'D11_Shift', '}': 'D12_Shift', '|': 'D13_Shift', ':': 'C10_Shift', '\"': 'C11_Shift', '<': 'B08_Shift', '>': 'B09_Shift', '?': 'B10_Shift'}\n"
     ]
    },
    {
     "data": {
      "image/png": "[encoded data removed]",
      "text/plain": [
       "<Figure size 720x288 with 1 Axes>"
      ]
     },
     "metadata": {
      "needs_background": "light"
     },
     "output_type": "display_data"
    }
   ],
   "source": [
    "# optimize the keyboard\n",
    "model = optimize(w_p, w_a, w_f, w_e, corpus_weights, scenario, char_set)"
   ]
  },
  {
   "cell_type": "markdown",
   "metadata": {},
   "source": [
    "### If you have stopped the optimization before it terminated:\n",
    "The third last column (or so) in the console output gives you the Gap between the score of the current best solution and the global optimum. \n",
    "\n",
    "Then run the following code to:\n",
    "- put the best found mapping in a human readable format that can also be easily modified, and\n",
    "- produce the plot with objectives\n",
    "\n",
    "Output will be stored in the <code> mappings </code> folder"
   ]
  },
  {
   "cell_type": "code",
   "execution_count": 4,
   "metadata": {
    "scrolled": true
   },
   "outputs": [
    {
     "name": "stdout",
     "output_type": "stream",
     "text": [
      "{'q': 'D01', 'w': 'D02', 'e': 'D03', 'r': 'D04', 't': 'D05', 'y': 'D06', 'u': 'D07', 'i': 'D08', 'o': 'D09', 'p': 'D10', 'a': 'C01', 's': 'C02', 'd': 'C03', 'f': 'C04', 'g': 'C05', 'h': 'C06', 'j': 'C07', 'k': 'C08', 'l': 'C09', 'z': 'B01', 'x': 'B02', 'c': 'B03', 'v': 'B04', 'b': 'B05', 'n': 'B06', 'm': 'B07', '[': 'D11', ']': 'D12', '\\\\': 'D13', ';': 'C10', \"'\": 'C11', ',': 'B08', '.': 'B09', '/': 'B10', 'space': 'A03', '`': 'E00', '1': 'E01', '2': 'E02', '3': 'E03', '4': 'E04', '5': 'E05', '6': 'E06', '7': 'E07', '8': 'E08', '9': 'E09', '0': 'E10', '-': 'E11', '=': 'E12', '~': 'E00_Shift', '!': 'E01_Shift', '@': 'E02_Shift', '#': 'E03_Shift', '$': 'E04_Shift', '%': 'E05_Shift', '^': 'E06_Shift', '&': 'E07_Shift', '*': 'E08_Shift', '(': 'E09_Shift', ')': 'E10_Shift', '_': 'E11_Shift', '+': 'E12_Shift', '{': 'D11_Shift', '}': 'D12_Shift', '|': 'D13_Shift', ':': 'C10_Shift', '\"': 'C11_Shift', '<': 'B08_Shift', '>': 'B09_Shift', '?': 'B10_Shift'}\n",
      "{'[': 'D11', ']': 'D12', '\\\\': 'D13', ';': 'C10', \"'\": 'C11', ',': 'B08', '.': 'B09', '/': 'B10', 'space': 'A03', '`': 'E00', '1': 'E01', '2': 'E02', '3': 'E03', '4': 'E04', '5': 'E05', '6': 'E06', '7': 'E07', '8': 'E08', '9': 'E09', '0': 'E10', '-': 'E11', '=': 'E12', '~': 'E00_Shift', '!': 'E01_Shift', '@': 'E02_Shift', '#': 'E03_Shift', '$': 'E04_Shift', '%': 'E05_Shift', '^': 'E06_Shift', '&': 'E07_Shift', '*': 'E08_Shift', '(': 'E09_Shift', ')': 'E10_Shift', '_': 'E11_Shift', '+': 'E12_Shift', '{': 'D11_Shift', '}': 'D12_Shift', '|': 'D13_Shift', ':': 'C10_Shift', '\"': 'C11_Shift', '<': 'B08_Shift', '>': 'B09_Shift', '?': 'B10_Shift'}\n",
      "Ergonomics negative, rounded to 0: -0.001508\n",
      "objective:  0.00065925\n",
      "{'q': 'D01', 'w': 'D02', 'e': 'D03', 'r': 'D04', 't': 'D05', 'y': 'D06', 'u': 'D07', 'i': 'D08', 'o': 'D09', 'p': 'D10', 'a': 'C01', 's': 'C02', 'd': 'C03', 'f': 'C04', 'g': 'C05', 'h': 'C06', 'j': 'C07', 'k': 'C08', 'l': 'C09', 'z': 'B01', 'x': 'B02', 'c': 'B03', 'v': 'B04', 'b': 'B05', 'n': 'B06', 'm': 'B07', '[': 'D11', ']': 'D12', '\\\\': 'D13', ';': 'C10', \"'\": 'C11', ',': 'B08', '.': 'B09', '/': 'B10', 'space': 'A03', '`': 'E00', '1': 'E01', '2': 'E02', '3': 'E03', '4': 'E04', '5': 'E05', '6': 'E06', '7': 'E07', '8': 'E08', '9': 'E09', '0': 'E10', '-': 'E11', '=': 'E12', '~': 'E00_Shift', '!': 'E01_Shift', '@': 'E02_Shift', '#': 'E03_Shift', '$': 'E04_Shift', '%': 'E05_Shift', '^': 'E06_Shift', '&': 'E07_Shift', '*': 'E08_Shift', '(': 'E09_Shift', ')': 'E10_Shift', '_': 'E11_Shift', '+': 'E12_Shift', '{': 'D11_Shift', '}': 'D12_Shift', '|': 'D13_Shift', ':': 'C10_Shift', '\"': 'C11_Shift', '<': 'B08_Shift', '>': 'B09_Shift', '?': 'B10_Shift'}\n",
      "{'[': 'D11', ']': 'D12', '\\\\': 'D13', ';': 'C10', \"'\": 'C11', ',': 'B08', '.': 'B09', '/': 'B10', 'space': 'A03', '`': 'E00', '1': 'E01', '2': 'E02', '3': 'E03', '4': 'E04', '5': 'E05', '6': 'E06', '7': 'E07', '8': 'E08', '9': 'E09', '0': 'E10', '-': 'E11', '=': 'E12', '~': 'E00_Shift', '!': 'E01_Shift', '@': 'E02_Shift', '#': 'E03_Shift', '$': 'E04_Shift', '%': 'E05_Shift', '^': 'E06_Shift', '&': 'E07_Shift', '*': 'E08_Shift', '(': 'E09_Shift', ')': 'E10_Shift', '_': 'E11_Shift', '+': 'E12_Shift', '{': 'D11_Shift', '}': 'D12_Shift', '|': 'D13_Shift', ':': 'C10_Shift', '\"': 'C11_Shift', '<': 'B08_Shift', '>': 'B09_Shift', '?': 'B10_Shift'}\n"
     ]
    },
    {
     "data": {
      "text/plain": [
       "{'a': 'D13',\n",
       " 'b': 'B05',\n",
       " 'c': 'B03',\n",
       " 'd': 'C03',\n",
       " 'e': 'D03',\n",
       " 'f': 'C04',\n",
       " 'g': 'C05',\n",
       " 'h': 'C06',\n",
       " 'i': 'D08',\n",
       " 'j': 'C07',\n",
       " 'k': 'C08',\n",
       " 'l': 'C09',\n",
       " 'm': 'D13_Shift',\n",
       " 'n': 'B06',\n",
       " 'o': 'D09',\n",
       " 'p': 'D10',\n",
       " 'q': 'D01',\n",
       " 'r': 'D04',\n",
       " 's': 'C02',\n",
       " 't': 'D05',\n",
       " 'u': 'D07',\n",
       " 'v': 'B04',\n",
       " 'w': 'D02',\n",
       " 'x': 'B02',\n",
       " 'y': 'D06',\n",
       " 'z': 'B01'}"
      ]
     },
     "execution_count": 4,
     "metadata": {},
     "output_type": "execute_result"
    },
    {
     "data": {
      "image/png": "[encoded data removed]",
      "text/plain": [
       "<Figure size 720x288 with 1 Axes>"
      ]
     },
     "metadata": {
      "needs_background": "light"
     },
     "output_type": "display_data"
    }
   ],
   "source": [
    "evaluate_optimized_reformulation(scenario, char_set,w_p, w_a, w_f, w_e, corpus_weights)"
   ]
  },
  {
   "cell_type": "markdown",
   "metadata": {},
   "source": [
    "### Evaluate and plot any given mapping:\n",
    "Given a mapping we can use \n",
    "\n",
    "<code>plot_mapping(path_to_mapping, plotname=path_to_mapping+\".png\", w_p=w_p, w_a=w_a, w_f=w_f, w_e=w_e, \n",
    "             corpus_weights=corpus_weights</code> \n",
    "\n",
    "to compute the values for each objective and visualize the mapping. The plotname is optional. If provided, it will save the visualization of the mapping.\n",
    "\n",
    "The mapping can be given directly as a dict of characters to keyslots or in form of a file path, either to a .txt file for which the format is \n",
    "\"letter key\"\n",
    "or to a .mst file as created by the optimization process. \n",
    "\n",
    "Note: \n",
    "- plotting is only available for AZERTY-like layouts where the normal letters are arranged as on AZERTY\n",
    "- the scenario and characterset must match the mapping. Characters that do not appear in the defined  characterset are filtered out for evaluation. \n",
    "\n",
    "To only evaluate the cost terms of the mapping, without viusalizing it, you have to first read in the mapping using:\n",
    "\n",
    "<code> mapping = create_map_from_txt(path_to_mapping) </code>\n",
    "\n",
    "Then you can use the <code> get_objectives </code> method to evaluate it (see below)\n",
    "\n",
    "You can easily get the original AZERTY layout using\n",
    "<code> get_azerty() </code>"
   ]
  },
  {
   "cell_type": "code",
   "execution_count": 5,
   "metadata": {},
   "outputs": [
    {
     "name": "stdout",
     "output_type": "stream",
     "text": [
      "{'q': 'D01', 'w': 'D02', 'e': 'D03', 'r': 'D04', 't': 'D05', 'y': 'D06', 'u': 'D07', 'i': 'D08', 'o': 'D09', 'p': 'D10', 'a': 'C01', 's': 'C02', 'd': 'C03', 'f': 'C04', 'g': 'C05', 'h': 'C06', 'j': 'C07', 'k': 'C08', 'l': 'C09', 'z': 'B01', 'x': 'B02', 'c': 'B03', 'v': 'B04', 'b': 'B05', 'n': 'B06', 'm': 'B07', '[': 'D11', ']': 'D12', '\\\\': 'D13', ';': 'C10', \"'\": 'C11', ',': 'B08', '.': 'B09', '/': 'B10', 'space': 'A03', '`': 'E00', '1': 'E01', '2': 'E02', '3': 'E03', '4': 'E04', '5': 'E05', '6': 'E06', '7': 'E07', '8': 'E08', '9': 'E09', '0': 'E10', '-': 'E11', '=': 'E12', '~': 'E00_Shift', '!': 'E01_Shift', '@': 'E02_Shift', '#': 'E03_Shift', '$': 'E04_Shift', '%': 'E05_Shift', '^': 'E06_Shift', '&': 'E07_Shift', '*': 'E08_Shift', '(': 'E09_Shift', ')': 'E10_Shift', '_': 'E11_Shift', '+': 'E12_Shift', '{': 'D11_Shift', '}': 'D12_Shift', '|': 'D13_Shift', ':': 'C10_Shift', '\"': 'C11_Shift', '<': 'B08_Shift', '>': 'B09_Shift', '?': 'B10_Shift'}\n",
      "{'q': 'D01', 'w': 'D02', 'e': 'D03', 'r': 'D04', 't': 'D05', 'y': 'D06', 'u': 'D07', 'i': 'D08', 'o': 'D09', 'p': 'D10', 'a': 'C01', 's': 'C02', 'd': 'C03', 'f': 'C04', 'g': 'C05', 'h': 'C06', 'j': 'C07', 'k': 'C08', 'l': 'C09', 'z': 'B01', 'x': 'B02', 'c': 'B03', 'v': 'B04', 'b': 'B05', 'n': 'B06', 'm': 'B07', '[': 'D11', ']': 'D12', '\\\\': 'D13', ';': 'C10', \"'\": 'C11', ',': 'B08', '.': 'B09', '/': 'B10', 'space': 'A03', '`': 'E00', '1': 'E01', '2': 'E02', '3': 'E03', '4': 'E04', '5': 'E05', '6': 'E06', '7': 'E07', '8': 'E08', '9': 'E09', '0': 'E10', '-': 'E11', '=': 'E12', '~': 'E00_Shift', '!': 'E01_Shift', '@': 'E02_Shift', '#': 'E03_Shift', '$': 'E04_Shift', '%': 'E05_Shift', '^': 'E06_Shift', '&': 'E07_Shift', '*': 'E08_Shift', '(': 'E09_Shift', ')': 'E10_Shift', '_': 'E11_Shift', '+': 'E12_Shift', '{': 'D11_Shift', '}': 'D12_Shift', '|': 'D13_Shift', ':': 'C10_Shift', '\"': 'C11_Shift', '<': 'B08_Shift', '>': 'B09_Shift', '?': 'B10_Shift'}\n",
      "{'[': 'D11', ']': 'D12', '\\\\': 'D13', ';': 'C10', \"'\": 'C11', ',': 'B08', '.': 'B09', '/': 'B10', 'space': 'A03', '`': 'E00', '1': 'E01', '2': 'E02', '3': 'E03', '4': 'E04', '5': 'E05', '6': 'E06', '7': 'E07', '8': 'E08', '9': 'E09', '0': 'E10', '-': 'E11', '=': 'E12', '~': 'E00_Shift', '!': 'E01_Shift', '@': 'E02_Shift', '#': 'E03_Shift', '$': 'E04_Shift', '%': 'E05_Shift', '^': 'E06_Shift', '&': 'E07_Shift', '*': 'E08_Shift', '(': 'E09_Shift', ')': 'E10_Shift', '_': 'E11_Shift', '+': 'E12_Shift', '{': 'D11_Shift', '}': 'D12_Shift', '|': 'D13_Shift', ':': 'C10_Shift', '\"': 'C11_Shift', '<': 'B08_Shift', '>': 'B09_Shift', '?': 'B10_Shift'}\n",
      "[ not in the to-be-mapped character set\n",
      "] not in the to-be-mapped character set\n",
      "\\ not in the to-be-mapped character set\n",
      "; not in the to-be-mapped character set\n",
      "' not in the to-be-mapped character set\n",
      ", not in the to-be-mapped character set\n",
      ". not in the to-be-mapped character set\n",
      "/ not in the to-be-mapped character set\n",
      "space not in the to-be-mapped character set\n",
      "` not in the to-be-mapped character set\n",
      "1 not in the to-be-mapped character set\n",
      "2 not in the to-be-mapped character set\n",
      "3 not in the to-be-mapped character set\n",
      "4 not in the to-be-mapped character set\n",
      "5 not in the to-be-mapped character set\n",
      "6 not in the to-be-mapped character set\n",
      "7 not in the to-be-mapped character set\n",
      "8 not in the to-be-mapped character set\n",
      "9 not in the to-be-mapped character set\n",
      "0 not in the to-be-mapped character set\n",
      "- not in the to-be-mapped character set\n",
      "= not in the to-be-mapped character set\n",
      "~ not in the to-be-mapped character set\n",
      "! not in the to-be-mapped character set\n",
      "@ not in the to-be-mapped character set\n",
      "# not in the to-be-mapped character set\n",
      "$ not in the to-be-mapped character set\n",
      "% not in the to-be-mapped character set\n",
      "^ not in the to-be-mapped character set\n",
      "& not in the to-be-mapped character set\n",
      "* not in the to-be-mapped character set\n",
      "( not in the to-be-mapped character set\n",
      ") not in the to-be-mapped character set\n",
      "_ not in the to-be-mapped character set\n",
      "+ not in the to-be-mapped character set\n",
      "{ not in the to-be-mapped character set\n",
      "} not in the to-be-mapped character set\n",
      "| not in the to-be-mapped character set\n",
      ": not in the to-be-mapped character set\n",
      "\" not in the to-be-mapped character set\n",
      "< not in the to-be-mapped character set\n",
      "> not in the to-be-mapped character set\n",
      "? not in the to-be-mapped character set\n",
      "Ergonomics negative, rounded to 0: -0.001508\n",
      "objective:  0.005469249999999999\n"
     ]
    },
    {
     "ename": "ValueError",
     "evalue": "not enough values to unpack (expected 5, got 4)",
     "output_type": "error",
     "traceback": [
      "\u001b[0;31m---------------------------------------------------------------------------\u001b[0m",
      "\u001b[0;31mValueError\u001b[0m                                Traceback (most recent call last)",
      "\u001b[0;32m<ipython-input-5-4bf3101b8866>\u001b[0m in \u001b[0;36m<module>\u001b[0;34m\u001b[0m\n\u001b[1;32m      2\u001b[0m \u001b[0;34m\u001b[0m\u001b[0m\n\u001b[1;32m      3\u001b[0m \u001b[0;31m# obtaining the costs of the mapping\u001b[0m\u001b[0;34m\u001b[0m\u001b[0;34m\u001b[0m\u001b[0;34m\u001b[0m\u001b[0m\n\u001b[0;32m----> 4\u001b[0;31m \u001b[0mobjective\u001b[0m\u001b[0;34m,\u001b[0m \u001b[0mp\u001b[0m\u001b[0;34m,\u001b[0m \u001b[0ma\u001b[0m\u001b[0;34m,\u001b[0m \u001b[0mf\u001b[0m\u001b[0;34m,\u001b[0m \u001b[0me\u001b[0m \u001b[0;34m=\u001b[0m \u001b[0mget_objectives\u001b[0m\u001b[0;34m(\u001b[0m\u001b[0mmapping\u001b[0m\u001b[0;34m,\u001b[0m \u001b[0mw_p\u001b[0m\u001b[0;34m,\u001b[0m \u001b[0mw_a\u001b[0m\u001b[0;34m,\u001b[0m \u001b[0mw_f\u001b[0m\u001b[0;34m,\u001b[0m \u001b[0mw_e\u001b[0m\u001b[0;34m,\u001b[0m \u001b[0mcorpus_weights\u001b[0m\u001b[0;34m,\u001b[0m \u001b[0mquadratic\u001b[0m\u001b[0;34m=\u001b[0m\u001b[0;36m1\u001b[0m\u001b[0;34m)\u001b[0m\u001b[0;34m\u001b[0m\u001b[0;34m\u001b[0m\u001b[0m\n\u001b[0m\u001b[1;32m      5\u001b[0m \u001b[0mprint\u001b[0m\u001b[0;34m(\u001b[0m\u001b[0;34m\"\\nAZERTY score: %f\\n Performance: %f\\n Association: %f\\n Familiarity: %f\\n Ergonomics: %f\\n\"\u001b[0m\u001b[0;34m%\u001b[0m\u001b[0;34m(\u001b[0m\u001b[0mobjective\u001b[0m\u001b[0;34m,\u001b[0m \u001b[0mp\u001b[0m\u001b[0;34m,\u001b[0m \u001b[0ma\u001b[0m\u001b[0;34m,\u001b[0m \u001b[0mf\u001b[0m\u001b[0;34m,\u001b[0m \u001b[0me\u001b[0m\u001b[0;34m)\u001b[0m\u001b[0;34m)\u001b[0m\u001b[0;34m\u001b[0m\u001b[0;34m\u001b[0m\u001b[0m\n\u001b[1;32m      6\u001b[0m \u001b[0;34m\u001b[0m\u001b[0m\n",
      "\u001b[0;31mValueError\u001b[0m: not enough values to unpack (expected 5, got 4)"
     ]
    }
   ],
   "source": [
    "mapping = get_azerty()\n",
    "\n",
    "# obtaining the costs of the mapping\n",
    "objective, p, a, f, e = get_objectives(mapping, w_p, w_a, w_f, w_e, corpus_weights, quadratic=1)\n",
    "print(\"\\nAZERTY score: %f\\n Performance: %f\\n Association: %f\\n Familiarity: %f\\n Ergonomics: %f\\n\"%(objective, p, a, f, e))\n",
    "\n",
    "# plotting the mapping\n",
    "fig, ax, objective, p, a, f, e = plot_mapping(mapping, plotname=\"azerty.png\", w_p=w_p, w_a=w_a, w_f=w_f, w_e=w_e, corpus_weights=corpus_weights, quadratic=0)      \n"
   ]
  },
  {
   "cell_type": "markdown",
   "metadata": {
    "collapsed": true
   },
   "source": [
    "# Methods for modifying and comparing mappings\n",
    "We provide a number of ways to compare mappings, modify an existing mapping and assess the impact of such changes on the objective scores. \n",
    "\n",
    "<code> plot_mapping_comparison(mapping1, mapping2, corpus_weights, w_p, w_a, w_f, w_e) </code>\n",
    "\n",
    "Can be used to compare any two mappings. It plots the second mapping and a bar chart comparing how the objective scores changed between the first and the second mapping. \n",
    "\n",
    "<code> new_mapping((mapping, char1, char2, corpus_weights, w_p, w_a, w_f, w_e, plot) </code>\n",
    "\n",
    "let's you directly swap two characters and plots the corresponding outcome with statistics about the differences.\n",
    "\n",
    "With \n",
    "\n",
    "<code> change_characters(mapping, change_dict) </code>\n",
    "\n",
    "You can directly re-assign characters in a mapping by defining a new assignment of characters to keyslots in form of a dictionary. This returns the corresponding new mapping. The method\n"
   ]
  },
  {
   "cell_type": "code",
   "execution_count": null,
   "metadata": {},
   "outputs": [],
   "source": [
    "# Get a mapping from file and plot it\n",
    "mapping = get_mapping(\"mappings/scenarioTESTsetTEST/scenarioTESTsetTEST_reform_constrained_R1_0.305010.txt\")\n",
    "_ = plot_mapping(mapping, plotname=\"azerty.png\", w_p=w_p, w_a=w_a, w_f=w_f, w_e=w_e, corpus_weights=corpus_weights, quadratic=0)      \n",
    "\n",
    "# Swap two characters. \n",
    "# Automatically plots the new mapping and statistics on how the objective values changed, if option plot=True\n",
    "new_mapping = swap_and_plot(mapping, u'É', u'@', corpus_weights, w_p, w_a, w_f, w_e, plot=True)"
   ]
  },
  {
   "cell_type": "code",
   "execution_count": null,
   "metadata": {},
   "outputs": [],
   "source": [
    "# Change a given mapping \n",
    "change_dict = {u'É':'E00_Shift'}\n",
    "new_mapping = change_characters(mapping, change_dict)\n",
    "# Plot the new mapping and compare its objectives.\n",
    "plot_mapping_comparison(mapping, new_mapping, corpus_weights, w_p, w_a, w_f, w_e)"
   ]
  },
  {
   "cell_type": "markdown",
   "metadata": {},
   "source": [
    "# Adapt to your own scenario or language\n",
    "\n",
    "The system uses the following input files from folder <code>/input</code>, which you can adapt for your own purpose. If you are renaming the files, you should change the path in <code>read_input.py</code>. For the new file, make sure to keep everything in the same format, in particular with respects to separators (mostly space, but please check). </i>\n",
    "\n",
    "**The following files can easily be adapted for your own purpose, e.g. to optimize for a different set of special characters, to fix certain characters, or to change the reference keyboard (traditional azerty):**\n",
    "\n",
    "<code>characters/characters_setFINAL.txt</code><br>\n",
    "The list of special characters that should be optimally placed. \n",
    "\n",
    "<code>fixed/fixed_scenarioFINAL.txt</code><br>\n",
    "A list of fixed characters (including special characters, a-z/A-Z and digits) and their position on the keyboard. \n",
    "\n",
    "<code>similarity.txt</code><br>\n",
    "A list that defines the similarity between two special characters or for between a character-letter pair. The similarity is given between 0 and 1. This is a symmetric score and the value should only be filled once to ensure high performance. *Change this if you have added special characters in the characters file*\n",
    "\n",
    "<code>frequencies/frequency_letters_XXX_XXX.txt</code><br>\n",
    "Defines the (normalized) frequency of characters for a specific corpus and characterset. If you consider a different characterset, you need to adapt these and ensure that the frequencies sum up to 1 (best done computationally, see below).\n",
    "*Change these if you have changed the character set or if you want to consider different corpora. The raw frequencies of all French characters are provided in input/resources* \n",
    "\n",
    "<code>frequencies/frequency_bigrams_XXX_XXX.txt</code><br>\n",
    "Defines the (normalized) frequency of character pairs for a specific corpus and characterset.  If you consider a different characterset, you need to adapt these and ensure that the frequencies sum up to 1 (best done computationally, see below). \n",
    "*Change these if you have changed the character set or if you want to consider different corpora. The raw frequencies of all French characters are provided in input/resources* \n",
    "\n",
    "\n",
    "\n",
    "**These files usually do not need to be changed:**\n",
    "\n",
    "<code>distance/distance_0.txt</code> and <code>distance/distance_1.txt</code><br>\n",
    "Matrix that defines the distance between two keyslots as the sum of row and column distance (normalized between 0 and 1). An extra level cost (Shift, Alt, Alt+Shift) is taken into account in the familiarity score (distance_1.txt).\n",
    "\n",
    "<code>performance/performance.txt</code><br>\n",
    "Defines the performance of a transition between a letter key and a special character key. Note: in this form only valid for the keyboard layout of the French keyboard (see keyslots file below)\n",
    "\n",
    "<code>ergonomics/ergonomics.txt</code><br>\n",
    "Defines the ergonomics value of a transition between two keys. Note: in this form only valid for the keyboard layout of the French keyboard (see keyslots file below)\n",
    "\n",
    "<code>keyslots/keyslots.txt </code><br>\n",
    "A list of all free slots to which the characters can be assigned during optimization (including slots on which you want to fix characters). This file should only be changed if the structure of the keyboard changes. The French keyboard follows the <a href=\"https://en.wikipedia.org/wiki/ISO/IEC_9995#The_harmonized_48_graphic_key_keyboard_arrangement\"> ISO/IEC 9995-2 </a> keyboard norm, specifically, the harmonized 48 graphic key keyboard arrangement including B00. \n",
    "\n",
    "<b> Important: </b> You can easily remove keyslots here if you do not want them to be assigned to special characters. However, if you want to add keyslots, you also have to provide the corresponding information about their performance and ergonomics in the respective files! \n",
    "\n",
    "<code>all_slots.txt</code><br>\n",
    "Contains all keyboard slots. This is only relevant for plotting. \n",
    "\n",
    "<code>letters/letters.txt </code><br>\n",
    "A list of letters that are fixed on the keyboard according to the previous layout (<code>azerty.txt</code>). Characters are optimized in relation to these fixed letters. \n",
    "\n",
    "<b> Important: </b> You can easily remove characters. However, if you want to add letters or change their assignment to other keyslots (as defined in the azerty.txt) you also need to update the corresponding information about performance, ergonomics, and similarity.\n",
    "\n",
    "<code>azerty.txt </code><br>\n",
    "</i>Defines the location of each character on the current (azerty) layout. Used in the familiarity objective."
   ]
  },
  {
   "cell_type": "code",
   "execution_count": null,
   "metadata": {},
   "outputs": [],
   "source": [
    "# Use the following method to create new frequency files from the available French coropora data. \n",
    "# You need to do that if you create a new characterset. \n",
    "\n",
    "create_normalized_frequency_files(scenario, char_set, glob.glob(\"input/resources/*letters*\"), \n",
    "                                  glob.glob(\"input/resources/*bigrams*\"))"
   ]
  },
  {
   "cell_type": "code",
   "execution_count": null,
   "metadata": {},
   "outputs": [],
   "source": []
  },
  {
   "cell_type": "code",
   "execution_count": null,
   "metadata": {},
   "outputs": [],
   "source": []
  },
  {
   "cell_type": "code",
   "execution_count": null,
   "metadata": {},
   "outputs": [],
   "source": []
  }
 ],
 "metadata": {
  "kernelspec": {
   "display_name": "Python 3",
   "language": "python",
   "name": "python3"
  },
  "language_info": {
   "codemirror_mode": {
    "name": "ipython",
    "version": 3
   },
   "file_extension": ".py",
   "mimetype": "text/x-python",
   "name": "python",
   "nbconvert_exporter": "python",
   "pygments_lexer": "ipython3",
   "version": "3.8.5"
  }
 },
 "nbformat": 4,
 "nbformat_minor": 1
}
